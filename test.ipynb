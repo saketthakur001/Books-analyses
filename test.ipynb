{
 "cells": [
  {
   "cell_type": "code",
   "execution_count": 1,
   "metadata": {},
   "outputs": [
    {
     "name": "stdout",
     "output_type": "stream",
     "text": [
      "                                        bookId  \\\n",
      "0                     2767052-the-hunger-games   \n",
      "1  2.Harry_Potter_and_the_Order_of_the_Phoenix   \n",
      "2                   2657.To_Kill_a_Mockingbird   \n",
      "3                     1885.Pride_and_Prejudice   \n",
      "4                               41865.Twilight   \n",
      "\n",
      "                                       title                 series  \\\n",
      "0                           The Hunger Games    The Hunger Games #1   \n",
      "1  Harry Potter and the Order of the Phoenix        Harry Potter #5   \n",
      "2                      To Kill a Mockingbird  To Kill a Mockingbird   \n",
      "3                        Pride and Prejudice                    NaN   \n",
      "4                                   Twilight   The Twilight Saga #1   \n",
      "\n",
      "                                      author  rating  \\\n",
      "0                            Suzanne Collins    4.33   \n",
      "1  J.K. Rowling, Mary GrandPré (Illustrator)    4.50   \n",
      "2                                 Harper Lee    4.28   \n",
      "3  Jane Austen, Anna Quindlen (Introduction)    4.26   \n",
      "4                            Stephenie Meyer    3.60   \n",
      "\n",
      "                                         description language           isbn  \\\n",
      "0  WINNING MEANS FAME AND FORTUNE.LOSING MEANS CE...  English  9780439023481   \n",
      "1  There is a door at the end of a silent corrido...  English  9780439358071   \n",
      "2  The unforgettable novel of a childhood in a sl...  English  9999999999999   \n",
      "3  Alternate cover edition of ISBN 9780679783268S...  English  9999999999999   \n",
      "4  About three things I was absolutely positive.\\...  English  9780316015844   \n",
      "\n",
      "                                              genres  \\\n",
      "0  ['Young Adult', 'Fiction', 'Dystopia', 'Fantas...   \n",
      "1  ['Fantasy', 'Young Adult', 'Fiction', 'Magic',...   \n",
      "2  ['Classics', 'Fiction', 'Historical Fiction', ...   \n",
      "3  ['Classics', 'Fiction', 'Romance', 'Historical...   \n",
      "4  ['Young Adult', 'Fantasy', 'Romance', 'Vampire...   \n",
      "\n",
      "                                          characters  ... firstPublishDate  \\\n",
      "0  ['Katniss Everdeen', 'Peeta Mellark', 'Cato (H...  ...              NaN   \n",
      "1  ['Sirius Black', 'Draco Malfoy', 'Ron Weasley'...  ...         06/21/03   \n",
      "2  ['Scout Finch', 'Atticus Finch', 'Jem Finch', ...  ...         07/11/60   \n",
      "3  ['Mr. Bennet', 'Mrs. Bennet', 'Jane Bennet', '...  ...         01/28/13   \n",
      "4  ['Edward Cullen', 'Jacob Black', 'Laurent', 'R...  ...         10/05/05   \n",
      "\n",
      "                                              awards numRatings  \\\n",
      "0  ['Locus Award Nominee for Best Young Adult Boo...    6376780   \n",
      "1  ['Bram Stoker Award for Works for Young Reader...    2507623   \n",
      "2  ['Pulitzer Prize for Fiction (1961)', 'Audie A...    4501075   \n",
      "3                                                 []    2998241   \n",
      "4  ['Georgia Peach Book Award (2007)', 'Buxtehude...    4964519   \n",
      "\n",
      "                                      ratingsByStars likedPercent  \\\n",
      "0  ['3444695', '1921313', '745221', '171994', '93...         96.0   \n",
      "1  ['1593642', '637516', '222366', '39573', '14526']         98.0   \n",
      "2  ['2363896', '1333153', '573280', '149952', '80...         95.0   \n",
      "3  ['1617567', '816659', '373311', '113934', '767...         94.0   \n",
      "4  ['1751460', '1113682', '1008686', '542017', '5...         78.0   \n",
      "\n",
      "                                             setting  \\\n",
      "0  ['District 12, Panem', 'Capitol, Panem', 'Pane...   \n",
      "1  ['Hogwarts School of Witchcraft and Wizardry (...   \n",
      "2               ['Maycomb, Alabama (United States)']   \n",
      "3  ['United Kingdom', 'Derbyshire, England (Unite...   \n",
      "4  ['Forks, Washington (United States)', 'Phoenix...   \n",
      "\n",
      "                                            coverImg  bbeScore bbeVotes  price  \n",
      "0  https://i.gr-assets.com/images/S/compressed.ph...   2993816    30516   5.09  \n",
      "1  https://i.gr-assets.com/images/S/compressed.ph...   2632233    26923   7.38  \n",
      "2  https://i.gr-assets.com/images/S/compressed.ph...   2269402    23328    NaN  \n",
      "3  https://i.gr-assets.com/images/S/compressed.ph...   1983116    20452    NaN  \n",
      "4  https://i.gr-assets.com/images/S/compressed.ph...   1459448    14874    2.1  \n",
      "\n",
      "[5 rows x 25 columns]\n"
     ]
    }
   ],
   "source": [
    "# Import pandas library\n",
    "import pandas as pd\n",
    "\n",
    "# Read the csv file and store it in a DataFrame object\n",
    "df = pd.read_csv(\"books_1.Best_Books_Ever.csv\")\n",
    "\n",
    "# Print the first five rows of the DataFrame\n",
    "print(df.head())\n"
   ]
  },
  {
   "cell_type": "code",
   "execution_count": null,
   "metadata": {},
   "outputs": [],
   "source": []
  }
 ],
 "metadata": {
  "kernelspec": {
   "display_name": "base",
   "language": "python",
   "name": "python3"
  },
  "language_info": {
   "codemirror_mode": {
    "name": "ipython",
    "version": 3
   },
   "file_extension": ".py",
   "mimetype": "text/x-python",
   "name": "python",
   "nbconvert_exporter": "python",
   "pygments_lexer": "ipython3",
   "version": "3.9.12"
  },
  "orig_nbformat": 4
 },
 "nbformat": 4,
 "nbformat_minor": 2
}
